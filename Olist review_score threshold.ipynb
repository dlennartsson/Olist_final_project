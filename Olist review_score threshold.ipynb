{
 "cells": [
  {
   "cell_type": "markdown",
   "metadata": {},
   "source": [
    "# Olist review_score threshold"
   ]
  },
  {
   "cell_type": "markdown",
   "metadata": {},
   "source": [
    "Our goal is to help Olist find out what sellers that shall be seen as not valuable\n",
    "\n",
    "We will do this by implementing a review_score threshold for sellers. Below that threshold, sellers get removed from the platform.\n",
    "\n",
    "Revenue\n",
    "As we have detailed previously, Olist charges sellers with various fees. For simplicity, we will assume that Olist takes 20% of the booking_value of sellers and charge 80 BRL by month per seller.\n",
    "\n",
    "👉 Note: The booking_value is defined as the sum of product price. It excludes freight_value.\n",
    "\n",
    "Cost\n",
    "\n",
    "On the long term, bad customer experience has business implications: low repeat rate, immediate customer support cost, refund or non favorable word of mouth.\n",
    "\n",
    "We will assume that we have an estimate measure of the monetary cost (in Brazilian Real) for each review"
   ]
  },
  {
   "cell_type": "code",
   "execution_count": 124,
   "metadata": {},
   "outputs": [],
   "source": [
    "import numpy as np\n",
    "import pandas as pd\n",
    "import seaborn as sns\n",
    "import matplotlib.pyplot as plt\n",
    "from ipywidgets import interact\n",
    "from datetime import datetime\n",
    "from datetime import datetime, timedelta\n",
    "\n",
    "\n",
    "\n",
    "#import our classes from the olist dataset\n",
    "from olist.data import Olist\n",
    "from olist.order import Order\n",
    "from olist.product import Product\n",
    "from olist.seller import Seller"
   ]
  },
  {
   "cell_type": "code",
   "execution_count": 2,
   "metadata": {},
   "outputs": [],
   "source": [
    "sellers = Seller().get_training_data()\n",
    "orders = Olist().get_data()['olist_orders_dataset']\n",
    "orders_details = Olist().get_data()['olist_order_items_dataset']\n",
    "reviews = Olist().get_data()['olist_order_reviews_dataset']"
   ]
  },
  {
   "cell_type": "markdown",
   "metadata": {},
   "source": [
    "We will assume that we have an estimate measure of the monetary cost (in Brazilian Real) for each review:"
   ]
  },
  {
   "cell_type": "code",
   "execution_count": 3,
   "metadata": {},
   "outputs": [],
   "source": [
    "df_list = [[1,100],[2,50],[3,40],[4,0],[5,0]]\n",
    "rev_cost = pd.DataFrame(df_list, columns = ['review_score', 'cost']) "
   ]
  },
  {
   "cell_type": "markdown",
   "metadata": {},
   "source": [
    "We apply the costs  for bad reviews to each review and drop the not needed columns:"
   ]
  },
  {
   "cell_type": "code",
   "execution_count": 4,
   "metadata": {},
   "outputs": [],
   "source": [
    "reviews = reviews.merge(rev_cost, how='left', on='review_score'\n",
    "                       ).drop(['review_comment_title', 'review_comment_message',\n",
    "                              'review_creation_date','review_answer_timestamp'], axis=1)"
   ]
  },
  {
   "cell_type": "code",
   "execution_count": 5,
   "metadata": {},
   "outputs": [
    {
     "data": {
      "text/html": [
       "<div>\n",
       "<style scoped>\n",
       "    .dataframe tbody tr th:only-of-type {\n",
       "        vertical-align: middle;\n",
       "    }\n",
       "\n",
       "    .dataframe tbody tr th {\n",
       "        vertical-align: top;\n",
       "    }\n",
       "\n",
       "    .dataframe thead th {\n",
       "        text-align: right;\n",
       "    }\n",
       "</style>\n",
       "<table border=\"1\" class=\"dataframe\">\n",
       "  <thead>\n",
       "    <tr style=\"text-align: right;\">\n",
       "      <th></th>\n",
       "      <th>review_id</th>\n",
       "      <th>order_id</th>\n",
       "      <th>review_score</th>\n",
       "      <th>cost</th>\n",
       "    </tr>\n",
       "  </thead>\n",
       "  <tbody>\n",
       "    <tr>\n",
       "      <th>0</th>\n",
       "      <td>7bc2406110b926393aa56f80a40eba40</td>\n",
       "      <td>73fc7af87114b39712e6da79b0a377eb</td>\n",
       "      <td>4</td>\n",
       "      <td>0</td>\n",
       "    </tr>\n",
       "    <tr>\n",
       "      <th>1</th>\n",
       "      <td>80e641a11e56f04c1ad469d5645fdfde</td>\n",
       "      <td>a548910a1c6147796b98fdf73dbeba33</td>\n",
       "      <td>5</td>\n",
       "      <td>0</td>\n",
       "    </tr>\n",
       "    <tr>\n",
       "      <th>2</th>\n",
       "      <td>228ce5500dc1d8e020d8d1322874b6f0</td>\n",
       "      <td>f9e4b658b201a9f2ecdecbb34bed034b</td>\n",
       "      <td>5</td>\n",
       "      <td>0</td>\n",
       "    </tr>\n",
       "    <tr>\n",
       "      <th>3</th>\n",
       "      <td>e64fb393e7b32834bb789ff8bb30750e</td>\n",
       "      <td>658677c97b385a9be170737859d3511b</td>\n",
       "      <td>5</td>\n",
       "      <td>0</td>\n",
       "    </tr>\n",
       "    <tr>\n",
       "      <th>4</th>\n",
       "      <td>f7c4243c7fe1938f181bec41a392bdeb</td>\n",
       "      <td>8e6bfb81e283fa7e4f11123a3fb894f1</td>\n",
       "      <td>5</td>\n",
       "      <td>0</td>\n",
       "    </tr>\n",
       "  </tbody>\n",
       "</table>\n",
       "</div>"
      ],
      "text/plain": [
       "                          review_id                          order_id  \\\n",
       "0  7bc2406110b926393aa56f80a40eba40  73fc7af87114b39712e6da79b0a377eb   \n",
       "1  80e641a11e56f04c1ad469d5645fdfde  a548910a1c6147796b98fdf73dbeba33   \n",
       "2  228ce5500dc1d8e020d8d1322874b6f0  f9e4b658b201a9f2ecdecbb34bed034b   \n",
       "3  e64fb393e7b32834bb789ff8bb30750e  658677c97b385a9be170737859d3511b   \n",
       "4  f7c4243c7fe1938f181bec41a392bdeb  8e6bfb81e283fa7e4f11123a3fb894f1   \n",
       "\n",
       "   review_score  cost  \n",
       "0             4     0  \n",
       "1             5     0  \n",
       "2             5     0  \n",
       "3             5     0  \n",
       "4             5     0  "
      ]
     },
     "execution_count": 5,
     "metadata": {},
     "output_type": "execute_result"
    }
   ],
   "source": [
    "reviews.head()"
   ]
  },
  {
   "cell_type": "markdown",
   "metadata": {},
   "source": [
    "We merge the Orders with the review and seller data and drop not needed columns:"
   ]
  },
  {
   "cell_type": "code",
   "execution_count": 6,
   "metadata": {},
   "outputs": [],
   "source": [
    "data = orders_details.merge(sellers, how='left', on='seller_id'\n",
    "                           ).merge(orders, how='left', on='order_id'\n",
    "                                  ).merge(reviews, how='left', on='order_id')"
   ]
  },
  {
   "cell_type": "code",
   "execution_count": 7,
   "metadata": {},
   "outputs": [],
   "source": [
    "data = data.drop(['quantity', 'order_item_id', 'freight_value', 'delay_to_carrier',\n",
    "                  'customer_id','order_approved_at','order_delivered_carrier_date',\n",
    "                  'shipping_limit_date', 'order_status','order_delivered_customer_date',\n",
    "                  'order_estimated_delivery_date', 'review_id'], axis=1)"
   ]
  },
  {
   "cell_type": "markdown",
   "metadata": {},
   "source": [
    "Add a column for order date and calulate the Olist revenue (20% per booking value):"
   ]
  },
  {
   "cell_type": "code",
   "execution_count": 108,
   "metadata": {},
   "outputs": [],
   "source": [
    "data['order_date'] = pd.to_datetime(data['order_purchase_timestamp'])\n",
    "data['Olist_rev'] = data['price']*0.2"
   ]
  },
  {
   "cell_type": "markdown",
   "metadata": {},
   "source": [
    "We set the Order Date as index so we can view per month"
   ]
  },
  {
   "cell_type": "code",
   "execution_count": 109,
   "metadata": {},
   "outputs": [
    {
     "data": {
      "text/html": [
       "<div>\n",
       "<style scoped>\n",
       "    .dataframe tbody tr th:only-of-type {\n",
       "        vertical-align: middle;\n",
       "    }\n",
       "\n",
       "    .dataframe tbody tr th {\n",
       "        vertical-align: top;\n",
       "    }\n",
       "\n",
       "    .dataframe thead th {\n",
       "        text-align: right;\n",
       "    }\n",
       "</style>\n",
       "<table border=\"1\" class=\"dataframe\">\n",
       "  <thead>\n",
       "    <tr style=\"text-align: right;\">\n",
       "      <th></th>\n",
       "      <th>order_id</th>\n",
       "      <th>product_id</th>\n",
       "      <th>seller_id</th>\n",
       "      <th>price</th>\n",
       "      <th>seller_city</th>\n",
       "      <th>seller_state</th>\n",
       "      <th>wait_time</th>\n",
       "      <th>share_one_stars</th>\n",
       "      <th>share_of_five_stars</th>\n",
       "      <th>avg_review_score</th>\n",
       "      <th>n_orders</th>\n",
       "      <th>order_purchase_timestamp</th>\n",
       "      <th>review_score</th>\n",
       "      <th>cost</th>\n",
       "      <th>Olist_rev</th>\n",
       "    </tr>\n",
       "    <tr>\n",
       "      <th>order_date</th>\n",
       "      <th></th>\n",
       "      <th></th>\n",
       "      <th></th>\n",
       "      <th></th>\n",
       "      <th></th>\n",
       "      <th></th>\n",
       "      <th></th>\n",
       "      <th></th>\n",
       "      <th></th>\n",
       "      <th></th>\n",
       "      <th></th>\n",
       "      <th></th>\n",
       "      <th></th>\n",
       "      <th></th>\n",
       "      <th></th>\n",
       "    </tr>\n",
       "  </thead>\n",
       "  <tbody>\n",
       "    <tr>\n",
       "      <th>2017-09-13 08:59:02</th>\n",
       "      <td>00010242fe8c5a6d1ba2dd792cb16214</td>\n",
       "      <td>4244733e06e7ecb4970a6e2683c13e61</td>\n",
       "      <td>48436dade18ac8b2bce089ec2a041202</td>\n",
       "      <td>58.90</td>\n",
       "      <td>volta redonda</td>\n",
       "      <td>SP</td>\n",
       "      <td>14.145738</td>\n",
       "      <td>0.123188</td>\n",
       "      <td>0.536232</td>\n",
       "      <td>4.014493</td>\n",
       "      <td>138.0</td>\n",
       "      <td>2017-09-13 08:59:02</td>\n",
       "      <td>5</td>\n",
       "      <td>0</td>\n",
       "      <td>11.780</td>\n",
       "    </tr>\n",
       "    <tr>\n",
       "      <th>2017-04-26 10:53:06</th>\n",
       "      <td>00018f77f2f0320c557190d7a144bdd3</td>\n",
       "      <td>e5f2d52b802189ee658865ca93d83a8f</td>\n",
       "      <td>dd7ddc04e1b6c2c614352b383efe2d36</td>\n",
       "      <td>239.90</td>\n",
       "      <td>sao paulo</td>\n",
       "      <td>SP</td>\n",
       "      <td>14.815091</td>\n",
       "      <td>0.155738</td>\n",
       "      <td>0.475410</td>\n",
       "      <td>3.827869</td>\n",
       "      <td>122.0</td>\n",
       "      <td>2017-04-26 10:53:06</td>\n",
       "      <td>4</td>\n",
       "      <td>0</td>\n",
       "      <td>47.980</td>\n",
       "    </tr>\n",
       "    <tr>\n",
       "      <th>2018-01-14 14:33:31</th>\n",
       "      <td>000229ec398224ef6ca0657da4fc703e</td>\n",
       "      <td>c777355d18b72b67abbeef9df44fd0fd</td>\n",
       "      <td>5b51032eddd242adc84c38acab88f23d</td>\n",
       "      <td>199.00</td>\n",
       "      <td>borda da mata</td>\n",
       "      <td>MG</td>\n",
       "      <td>11.863262</td>\n",
       "      <td>0.083333</td>\n",
       "      <td>0.333333</td>\n",
       "      <td>4.000000</td>\n",
       "      <td>12.0</td>\n",
       "      <td>2018-01-14 14:33:31</td>\n",
       "      <td>5</td>\n",
       "      <td>0</td>\n",
       "      <td>39.800</td>\n",
       "    </tr>\n",
       "    <tr>\n",
       "      <th>2018-08-08 10:00:35</th>\n",
       "      <td>00024acbcdf0a6daa1e931b038114c75</td>\n",
       "      <td>7634da152a4610f1595efa32f14722fc</td>\n",
       "      <td>9d7a1d34a5052409006425275ba1c2b4</td>\n",
       "      <td>12.99</td>\n",
       "      <td>franca</td>\n",
       "      <td>SP</td>\n",
       "      <td>12.984201</td>\n",
       "      <td>0.076923</td>\n",
       "      <td>0.692308</td>\n",
       "      <td>4.384615</td>\n",
       "      <td>13.0</td>\n",
       "      <td>2018-08-08 10:00:35</td>\n",
       "      <td>4</td>\n",
       "      <td>0</td>\n",
       "      <td>2.598</td>\n",
       "    </tr>\n",
       "    <tr>\n",
       "      <th>2017-02-04 13:57:51</th>\n",
       "      <td>00042b26cf59d7ce69dfabb4e55b4fd9</td>\n",
       "      <td>ac6c3623068f30de03045865e4e10089</td>\n",
       "      <td>df560393f3a51e74553ab94004ba5c87</td>\n",
       "      <td>199.90</td>\n",
       "      <td>loanda</td>\n",
       "      <td>PR</td>\n",
       "      <td>18.076695</td>\n",
       "      <td>0.142857</td>\n",
       "      <td>0.321429</td>\n",
       "      <td>3.678571</td>\n",
       "      <td>28.0</td>\n",
       "      <td>2017-02-04 13:57:51</td>\n",
       "      <td>5</td>\n",
       "      <td>0</td>\n",
       "      <td>39.980</td>\n",
       "    </tr>\n",
       "  </tbody>\n",
       "</table>\n",
       "</div>"
      ],
      "text/plain": [
       "                                             order_id  \\\n",
       "order_date                                              \n",
       "2017-09-13 08:59:02  00010242fe8c5a6d1ba2dd792cb16214   \n",
       "2017-04-26 10:53:06  00018f77f2f0320c557190d7a144bdd3   \n",
       "2018-01-14 14:33:31  000229ec398224ef6ca0657da4fc703e   \n",
       "2018-08-08 10:00:35  00024acbcdf0a6daa1e931b038114c75   \n",
       "2017-02-04 13:57:51  00042b26cf59d7ce69dfabb4e55b4fd9   \n",
       "\n",
       "                                           product_id  \\\n",
       "order_date                                              \n",
       "2017-09-13 08:59:02  4244733e06e7ecb4970a6e2683c13e61   \n",
       "2017-04-26 10:53:06  e5f2d52b802189ee658865ca93d83a8f   \n",
       "2018-01-14 14:33:31  c777355d18b72b67abbeef9df44fd0fd   \n",
       "2018-08-08 10:00:35  7634da152a4610f1595efa32f14722fc   \n",
       "2017-02-04 13:57:51  ac6c3623068f30de03045865e4e10089   \n",
       "\n",
       "                                            seller_id   price    seller_city  \\\n",
       "order_date                                                                     \n",
       "2017-09-13 08:59:02  48436dade18ac8b2bce089ec2a041202   58.90  volta redonda   \n",
       "2017-04-26 10:53:06  dd7ddc04e1b6c2c614352b383efe2d36  239.90      sao paulo   \n",
       "2018-01-14 14:33:31  5b51032eddd242adc84c38acab88f23d  199.00  borda da mata   \n",
       "2018-08-08 10:00:35  9d7a1d34a5052409006425275ba1c2b4   12.99         franca   \n",
       "2017-02-04 13:57:51  df560393f3a51e74553ab94004ba5c87  199.90         loanda   \n",
       "\n",
       "                    seller_state  wait_time  share_one_stars  \\\n",
       "order_date                                                     \n",
       "2017-09-13 08:59:02           SP  14.145738         0.123188   \n",
       "2017-04-26 10:53:06           SP  14.815091         0.155738   \n",
       "2018-01-14 14:33:31           MG  11.863262         0.083333   \n",
       "2018-08-08 10:00:35           SP  12.984201         0.076923   \n",
       "2017-02-04 13:57:51           PR  18.076695         0.142857   \n",
       "\n",
       "                     share_of_five_stars  avg_review_score  n_orders  \\\n",
       "order_date                                                             \n",
       "2017-09-13 08:59:02             0.536232          4.014493     138.0   \n",
       "2017-04-26 10:53:06             0.475410          3.827869     122.0   \n",
       "2018-01-14 14:33:31             0.333333          4.000000      12.0   \n",
       "2018-08-08 10:00:35             0.692308          4.384615      13.0   \n",
       "2017-02-04 13:57:51             0.321429          3.678571      28.0   \n",
       "\n",
       "                    order_purchase_timestamp  review_score  cost  Olist_rev  \n",
       "order_date                                                                   \n",
       "2017-09-13 08:59:02      2017-09-13 08:59:02             5     0     11.780  \n",
       "2017-04-26 10:53:06      2017-04-26 10:53:06             4     0     47.980  \n",
       "2018-01-14 14:33:31      2018-01-14 14:33:31             5     0     39.800  \n",
       "2018-08-08 10:00:35      2018-08-08 10:00:35             4     0      2.598  \n",
       "2017-02-04 13:57:51      2017-02-04 13:57:51             5     0     39.980  "
      ]
     },
     "execution_count": 109,
     "metadata": {},
     "output_type": "execute_result"
    }
   ],
   "source": [
    "seller_review_data = data.set_index(['order_date'])\n",
    "seller_review_data.head()\n",
    "#data.head()"
   ]
  },
  {
   "cell_type": "markdown",
   "metadata": {},
   "source": [
    "We now group by seller for each month and add the monthly charged 80:"
   ]
  },
  {
   "cell_type": "code",
   "execution_count": 110,
   "metadata": {},
   "outputs": [],
   "source": [
    "seller_review_data = seller_review_data.groupby(['seller_id', pd.Grouper(freq='M')]\n",
    "                                               ).agg({'order_id':'nunique','price':'sum',\n",
    "                                                      'wait_time':'first', 'avg_review_score':'first',\n",
    "                                                      'n_orders':'first', 'Olist_rev':'sum', 'review_score':'mean',\n",
    "                                                      'cost':'mean'}).fillna(0)"
   ]
  },
  {
   "cell_type": "code",
   "execution_count": 111,
   "metadata": {},
   "outputs": [],
   "source": [
    "seller_review_data['Olist_rev'] = seller_review_data['Olist_rev']+80\n",
    "df = seller_review_data.reset_index()"
   ]
  },
  {
   "cell_type": "markdown",
   "metadata": {},
   "source": [
    "View some date for one seller"
   ]
  },
  {
   "cell_type": "code",
   "execution_count": 118,
   "metadata": {},
   "outputs": [
    {
     "data": {
      "text/html": [
       "<div>\n",
       "<style scoped>\n",
       "    .dataframe tbody tr th:only-of-type {\n",
       "        vertical-align: middle;\n",
       "    }\n",
       "\n",
       "    .dataframe tbody tr th {\n",
       "        vertical-align: top;\n",
       "    }\n",
       "\n",
       "    .dataframe thead th {\n",
       "        text-align: right;\n",
       "    }\n",
       "</style>\n",
       "<table border=\"1\" class=\"dataframe\">\n",
       "  <thead>\n",
       "    <tr style=\"text-align: right;\">\n",
       "      <th></th>\n",
       "      <th>seller_id</th>\n",
       "      <th>order_date</th>\n",
       "      <th>order_id</th>\n",
       "      <th>price</th>\n",
       "      <th>wait_time</th>\n",
       "      <th>avg_review_score</th>\n",
       "      <th>n_orders</th>\n",
       "      <th>Olist_rev</th>\n",
       "      <th>review_score</th>\n",
       "      <th>cost</th>\n",
       "    </tr>\n",
       "  </thead>\n",
       "  <tbody>\n",
       "    <tr>\n",
       "      <th>10409</th>\n",
       "      <td>9d7a1d34a5052409006425275ba1c2b4</td>\n",
       "      <td>2017-07-31</td>\n",
       "      <td>2</td>\n",
       "      <td>678.60</td>\n",
       "      <td>12.984201</td>\n",
       "      <td>4.384615</td>\n",
       "      <td>13.0</td>\n",
       "      <td>215.720</td>\n",
       "      <td>1.800000</td>\n",
       "      <td>80.0</td>\n",
       "    </tr>\n",
       "    <tr>\n",
       "      <th>10410</th>\n",
       "      <td>9d7a1d34a5052409006425275ba1c2b4</td>\n",
       "      <td>2017-12-31</td>\n",
       "      <td>2</td>\n",
       "      <td>60.98</td>\n",
       "      <td>12.984201</td>\n",
       "      <td>4.384615</td>\n",
       "      <td>13.0</td>\n",
       "      <td>92.196</td>\n",
       "      <td>5.000000</td>\n",
       "      <td>0.0</td>\n",
       "    </tr>\n",
       "    <tr>\n",
       "      <th>10411</th>\n",
       "      <td>9d7a1d34a5052409006425275ba1c2b4</td>\n",
       "      <td>2018-02-28</td>\n",
       "      <td>3</td>\n",
       "      <td>38.49</td>\n",
       "      <td>12.984201</td>\n",
       "      <td>4.384615</td>\n",
       "      <td>13.0</td>\n",
       "      <td>87.698</td>\n",
       "      <td>5.000000</td>\n",
       "      <td>0.0</td>\n",
       "    </tr>\n",
       "    <tr>\n",
       "      <th>10412</th>\n",
       "      <td>9d7a1d34a5052409006425275ba1c2b4</td>\n",
       "      <td>2018-04-30</td>\n",
       "      <td>1</td>\n",
       "      <td>49.99</td>\n",
       "      <td>12.984201</td>\n",
       "      <td>4.384615</td>\n",
       "      <td>13.0</td>\n",
       "      <td>89.998</td>\n",
       "      <td>5.000000</td>\n",
       "      <td>0.0</td>\n",
       "    </tr>\n",
       "    <tr>\n",
       "      <th>10413</th>\n",
       "      <td>9d7a1d34a5052409006425275ba1c2b4</td>\n",
       "      <td>2018-06-30</td>\n",
       "      <td>2</td>\n",
       "      <td>191.98</td>\n",
       "      <td>12.984201</td>\n",
       "      <td>4.384615</td>\n",
       "      <td>13.0</td>\n",
       "      <td>118.396</td>\n",
       "      <td>4.000000</td>\n",
       "      <td>20.0</td>\n",
       "    </tr>\n",
       "    <tr>\n",
       "      <th>10414</th>\n",
       "      <td>9d7a1d34a5052409006425275ba1c2b4</td>\n",
       "      <td>2018-08-31</td>\n",
       "      <td>3</td>\n",
       "      <td>34.78</td>\n",
       "      <td>12.984201</td>\n",
       "      <td>4.384615</td>\n",
       "      <td>13.0</td>\n",
       "      <td>86.956</td>\n",
       "      <td>4.333333</td>\n",
       "      <td>0.0</td>\n",
       "    </tr>\n",
       "  </tbody>\n",
       "</table>\n",
       "</div>"
      ],
      "text/plain": [
       "                              seller_id order_date  order_id   price  \\\n",
       "10409  9d7a1d34a5052409006425275ba1c2b4 2017-07-31         2  678.60   \n",
       "10410  9d7a1d34a5052409006425275ba1c2b4 2017-12-31         2   60.98   \n",
       "10411  9d7a1d34a5052409006425275ba1c2b4 2018-02-28         3   38.49   \n",
       "10412  9d7a1d34a5052409006425275ba1c2b4 2018-04-30         1   49.99   \n",
       "10413  9d7a1d34a5052409006425275ba1c2b4 2018-06-30         2  191.98   \n",
       "10414  9d7a1d34a5052409006425275ba1c2b4 2018-08-31         3   34.78   \n",
       "\n",
       "       wait_time  avg_review_score  n_orders  Olist_rev  review_score  cost  \n",
       "10409  12.984201          4.384615      13.0    215.720      1.800000  80.0  \n",
       "10410  12.984201          4.384615      13.0     92.196      5.000000   0.0  \n",
       "10411  12.984201          4.384615      13.0     87.698      5.000000   0.0  \n",
       "10412  12.984201          4.384615      13.0     89.998      5.000000   0.0  \n",
       "10413  12.984201          4.384615      13.0    118.396      4.000000  20.0  \n",
       "10414  12.984201          4.384615      13.0     86.956      4.333333   0.0  "
      ]
     },
     "execution_count": 118,
     "metadata": {},
     "output_type": "execute_result"
    }
   ],
   "source": [
    "df.query(\"seller_id == '9d7a1d34a5052409006425275ba1c2b4'\")"
   ]
  },
  {
   "cell_type": "markdown",
   "metadata": {},
   "source": [
    "# Find the threshold from where a seller should be banned from our platform"
   ]
  },
  {
   "cell_type": "markdown",
   "metadata": {},
   "source": [
    "You can set the threshold manually and we look att the orders for the last 130 days"
   ]
  },
  {
   "cell_type": "code",
   "execution_count": 123,
   "metadata": {},
   "outputs": [
    {
     "data": {
      "application/vnd.jupyter.widget-view+json": {
       "model_id": "011fd1b4602c42298d8d3465e63673a7",
       "version_major": 2,
       "version_minor": 0
      },
      "text/plain": [
       "interactive(children=(FloatSlider(value=2.7, description='treshhold', max=8.100000000000001, min=-2.7), Output…"
      ]
     },
     "metadata": {},
     "output_type": "display_data"
    }
   ],
   "source": [
    "@interact\n",
    "def plot_revs(treshhold=2.7):\n",
    "    max_date = (df['order_date'].max() - timedelta(days=130))\n",
    "    print('start_date:')\n",
    "    print(max_date)\n",
    "    df_ = df.query(\"order_date > @max_date\")\n",
    "    print('avr_revenue')\n",
    "    print(df_['Olist_rev'].mean().round())\n",
    "    \n",
    "    df_ = df.query(\"review_score <\" + str(treshhold))\n",
    "    plt.figure(figsize=(12, 6))\n",
    "    b = sns.distplot(df_['order_id'])\n",
    "    b.set_xlabel(\"Number of Orders\",fontsize=30)\n",
    "    \n",
    "    print('Nof_Sellers, avg_revenue ')\n",
    "    print(df_['seller_id'].count(), ',' , (df_['Olist_rev'].mean()-df_['cost'].mean()).round())\n",
    "    \n",
    "    return df_['seller_id']\n",
    "    "
   ]
  },
  {
   "cell_type": "code",
   "execution_count": null,
   "metadata": {},
   "outputs": [],
   "source": []
  }
 ],
 "metadata": {
  "kernelspec": {
   "display_name": "Python 3",
   "language": "python",
   "name": "python3"
  },
  "language_info": {
   "codemirror_mode": {
    "name": "ipython",
    "version": 3
   },
   "file_extension": ".py",
   "mimetype": "text/x-python",
   "name": "python",
   "nbconvert_exporter": "python",
   "pygments_lexer": "ipython3",
   "version": "3.7.3"
  }
 },
 "nbformat": 4,
 "nbformat_minor": 2
}
